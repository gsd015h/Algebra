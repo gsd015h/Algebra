{
  "nbformat": 4,
  "nbformat_minor": 0,
  "metadata": {
    "colab": {
      "provenance": []
    },
    "kernelspec": {
      "name": "python3",
      "display_name": "Python 3"
    },
    "language_info": {
      "name": "python"
    }
  },
  "cells": [
    {
      "cell_type": "code",
      "execution_count": 1,
      "metadata": {
        "id": "DqvXXZlzwwc-"
      },
      "outputs": [],
      "source": [
        "import sympy\n",
        "from sympy import symbols\n",
        "from sympy.solvers import solve"
      ]
    },
    {
      "cell_type": "markdown",
      "source": [
        "### Proportions\n",
        "---\n",
        "\n",
        "## Set up a proportion:\n",
        "$$\n",
        "\\frac{n1}{d1} = \\frac{n2}{d2}\n",
        "$$"
      ],
      "metadata": {
        "id": "3JjEuLXAeO4O"
      }
    },
    {
      "cell_type": "code",
      "source": [
        "# put a zero in for the unknown value\n",
        "n1 = 1\n",
        "d1 = 2\n",
        "n2 = 0\n",
        "d2 = 16\n",
        "\n",
        "if n2 == 0:\n",
        "    answer = d2 * n1 / d1\n",
        "    print(\"n2 = 0, so the answer is\", answer)\n",
        "\n",
        "if d2 == 0:\n",
        "    answer = n2 * d1 / n1\n",
        "    print(\"d2 = 0, so the answer is\", answer)"
      ],
      "metadata": {
        "colab": {
          "base_uri": "https://localhost:8080/"
        },
        "id": "ogoV6siEiNXf",
        "outputId": "c741c6ef-afbd-4e84-bfde-4375ad18df6a"
      },
      "execution_count": 15,
      "outputs": [
        {
          "output_type": "stream",
          "name": "stdout",
          "text": [
            "n2 = 0, so the answer is 8.0\n"
          ]
        }
      ]
    },
    {
      "cell_type": "code",
      "source": [
        "x = symbols('x')\n",
        "\n",
        "# put the equation here\n",
        "eq = x - 2\n",
        "print(\"x = \",solve(eq,x))\n",
        "eq = x**2 - 2\n",
        "print(\"x = \",solve(eq,x))\n",
        "eq = x**2 - 4\n",
        "print(\"x = \",solve(eq,x))\n",
        "eq = x**2 + 2*x - 3\n",
        "print(\"x = \",solve(eq,x))"
      ],
      "metadata": {
        "colab": {
          "base_uri": "https://localhost:8080/"
        },
        "id": "8ZHrZ7DMZ9aF",
        "outputId": "30cfbc71-1496-4fd8-c62c-b6165d98e45c"
      },
      "execution_count": 16,
      "outputs": [
        {
          "output_type": "stream",
          "name": "stdout",
          "text": [
            "x =  [2]\n",
            "x =  [-sqrt(2), sqrt(2)]\n",
            "x =  [-2, 2]\n",
            "x =  [-3, 1]\n"
          ]
        }
      ]
    },
    {
      "cell_type": "code",
      "source": [
        "eq = 2*x + 1\n",
        "solve(eq,x)"
      ],
      "metadata": {
        "colab": {
          "base_uri": "https://localhost:8080/"
        },
        "id": "woSyr13Yb9Cc",
        "outputId": "26cb5a8f-62f7-412d-c664-d4eace59894d"
      },
      "execution_count": 17,
      "outputs": [
        {
          "output_type": "execute_result",
          "data": {
            "text/plain": [
              "[-1/2]"
            ]
          },
          "metadata": {},
          "execution_count": 17
        }
      ]
    },
    {
      "cell_type": "code",
      "source": [
        "x = symbols('x')\n",
        "eq = input('Enter equation: 0 = ')\n",
        "print(\"x = \",solve(eq,x))"
      ],
      "metadata": {
        "colab": {
          "base_uri": "https://localhost:8080/"
        },
        "id": "5mYnX6H9enpL",
        "outputId": "4743dcdc-11a4-4e70-b1ae-d3636400fd88"
      },
      "execution_count": 18,
      "outputs": [
        {
          "output_type": "stream",
          "name": "stdout",
          "text": [
            "Enter equation: 0 = 3*x - 6\n",
            "x =  [2]\n"
          ]
        }
      ]
    },
    {
      "cell_type": "code",
      "source": [
        "x = symbols('x')\n",
        "solution = solve(eq,x)\n",
        "print(solution)\n",
        "print(\"x = \",solution[0])"
      ],
      "metadata": {
        "colab": {
          "base_uri": "https://localhost:8080/"
        },
        "id": "4009ZPjUgNlq",
        "outputId": "dc6134ee-89e3-4501-a60c-fd3f799b5f7a"
      },
      "execution_count": 19,
      "outputs": [
        {
          "output_type": "stream",
          "name": "stdout",
          "text": [
            "[2]\n",
            "x =  2\n"
          ]
        }
      ]
    },
    {
      "cell_type": "code",
      "source": [],
      "metadata": {
        "id": "ZPW0YoDOg7jL"
      },
      "execution_count": null,
      "outputs": []
    }
  ]
}